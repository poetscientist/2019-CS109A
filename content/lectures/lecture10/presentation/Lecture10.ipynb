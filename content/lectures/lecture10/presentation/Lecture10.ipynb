{
 "cells": [
  {
   "cell_type": "markdown",
   "metadata": {
    "run_control": {}
   },
   "source": [
    "# <img style=\"float: left; padding-right: 10px; width: 45px\" src=\"https://github.com/Harvard-IACS/2018-CS109A/blob/master/content/styles/iacs.png?raw=true\"> CS109A Introduction to Data Science \n",
    "\n",
    "## Lecture 10 (Logistic Regression)\n",
    "\n",
    "**Harvard University**<br>\n",
    "**Fall 2019**<br>\n",
    "**Instructors:** Pavlos Protopapas, Kevin Rader, and Chris Tanner<br>\n",
    "\n",
    "\n",
    "---"
   ]
  },
  {
   "cell_type": "code",
   "execution_count": 1,
   "metadata": {
    "button": false,
    "new_sheet": false,
    "run_control": {
     "read_only": false
    }
   },
   "outputs": [
    {
     "name": "stdout",
     "output_type": "stream",
     "text": [
      "Populating the interactive namespace from numpy and matplotlib\n"
     ]
    }
   ],
   "source": [
    "#from sklearn import datasets\n",
    "import pandas as pd\n",
    "%pylab inline\n",
    "import matplotlib.pylab as plt\n",
    "import numpy as np\n",
    "import sklearn as sk\n",
    "\n",
    "from sklearn.neighbors import NearestNeighbors\n",
    "from sklearn import neighbors\n",
    "from sklearn import linear_model"
   ]
  },
  {
   "cell_type": "code",
   "execution_count": 2,
   "metadata": {
    "button": false,
    "new_sheet": false,
    "run_control": {
     "read_only": false
    }
   },
   "outputs": [
    {
     "ename": "FileNotFoundError",
     "evalue": "[Errno 2] File b'data/Heart.csv' does not exist: b'data/Heart.csv'",
     "output_type": "error",
     "traceback": [
      "\u001b[0;31m---------------------------------------------------------------------------\u001b[0m",
      "\u001b[0;31mFileNotFoundError\u001b[0m                         Traceback (most recent call last)",
      "\u001b[0;32m<ipython-input-2-2e5b7fe9e252>\u001b[0m in \u001b[0;36m<module>\u001b[0;34m\u001b[0m\n\u001b[0;32m----> 1\u001b[0;31m \u001b[0mdf_heart\u001b[0m \u001b[0;34m=\u001b[0m \u001b[0mpd\u001b[0m\u001b[0;34m.\u001b[0m\u001b[0mread_csv\u001b[0m\u001b[0;34m(\u001b[0m\u001b[0;34m'data/Heart.csv'\u001b[0m\u001b[0;34m)\u001b[0m\u001b[0;34m\u001b[0m\u001b[0;34m\u001b[0m\u001b[0m\n\u001b[0m",
      "\u001b[0;32m//anaconda3/lib/python3.7/site-packages/pandas/io/parsers.py\u001b[0m in \u001b[0;36mparser_f\u001b[0;34m(filepath_or_buffer, sep, delimiter, header, names, index_col, usecols, squeeze, prefix, mangle_dupe_cols, dtype, engine, converters, true_values, false_values, skipinitialspace, skiprows, skipfooter, nrows, na_values, keep_default_na, na_filter, verbose, skip_blank_lines, parse_dates, infer_datetime_format, keep_date_col, date_parser, dayfirst, iterator, chunksize, compression, thousands, decimal, lineterminator, quotechar, quoting, doublequote, escapechar, comment, encoding, dialect, tupleize_cols, error_bad_lines, warn_bad_lines, delim_whitespace, low_memory, memory_map, float_precision)\u001b[0m\n\u001b[1;32m    700\u001b[0m                     skip_blank_lines=skip_blank_lines)\n\u001b[1;32m    701\u001b[0m \u001b[0;34m\u001b[0m\u001b[0m\n\u001b[0;32m--> 702\u001b[0;31m         \u001b[0;32mreturn\u001b[0m \u001b[0m_read\u001b[0m\u001b[0;34m(\u001b[0m\u001b[0mfilepath_or_buffer\u001b[0m\u001b[0;34m,\u001b[0m \u001b[0mkwds\u001b[0m\u001b[0;34m)\u001b[0m\u001b[0;34m\u001b[0m\u001b[0;34m\u001b[0m\u001b[0m\n\u001b[0m\u001b[1;32m    703\u001b[0m \u001b[0;34m\u001b[0m\u001b[0m\n\u001b[1;32m    704\u001b[0m     \u001b[0mparser_f\u001b[0m\u001b[0;34m.\u001b[0m\u001b[0m__name__\u001b[0m \u001b[0;34m=\u001b[0m \u001b[0mname\u001b[0m\u001b[0;34m\u001b[0m\u001b[0;34m\u001b[0m\u001b[0m\n",
      "\u001b[0;32m//anaconda3/lib/python3.7/site-packages/pandas/io/parsers.py\u001b[0m in \u001b[0;36m_read\u001b[0;34m(filepath_or_buffer, kwds)\u001b[0m\n\u001b[1;32m    427\u001b[0m \u001b[0;34m\u001b[0m\u001b[0m\n\u001b[1;32m    428\u001b[0m     \u001b[0;31m# Create the parser.\u001b[0m\u001b[0;34m\u001b[0m\u001b[0;34m\u001b[0m\u001b[0;34m\u001b[0m\u001b[0m\n\u001b[0;32m--> 429\u001b[0;31m     \u001b[0mparser\u001b[0m \u001b[0;34m=\u001b[0m \u001b[0mTextFileReader\u001b[0m\u001b[0;34m(\u001b[0m\u001b[0mfilepath_or_buffer\u001b[0m\u001b[0;34m,\u001b[0m \u001b[0;34m**\u001b[0m\u001b[0mkwds\u001b[0m\u001b[0;34m)\u001b[0m\u001b[0;34m\u001b[0m\u001b[0;34m\u001b[0m\u001b[0m\n\u001b[0m\u001b[1;32m    430\u001b[0m \u001b[0;34m\u001b[0m\u001b[0m\n\u001b[1;32m    431\u001b[0m     \u001b[0;32mif\u001b[0m \u001b[0mchunksize\u001b[0m \u001b[0;32mor\u001b[0m \u001b[0miterator\u001b[0m\u001b[0;34m:\u001b[0m\u001b[0;34m\u001b[0m\u001b[0;34m\u001b[0m\u001b[0m\n",
      "\u001b[0;32m//anaconda3/lib/python3.7/site-packages/pandas/io/parsers.py\u001b[0m in \u001b[0;36m__init__\u001b[0;34m(self, f, engine, **kwds)\u001b[0m\n\u001b[1;32m    893\u001b[0m             \u001b[0mself\u001b[0m\u001b[0;34m.\u001b[0m\u001b[0moptions\u001b[0m\u001b[0;34m[\u001b[0m\u001b[0;34m'has_index_names'\u001b[0m\u001b[0;34m]\u001b[0m \u001b[0;34m=\u001b[0m \u001b[0mkwds\u001b[0m\u001b[0;34m[\u001b[0m\u001b[0;34m'has_index_names'\u001b[0m\u001b[0;34m]\u001b[0m\u001b[0;34m\u001b[0m\u001b[0;34m\u001b[0m\u001b[0m\n\u001b[1;32m    894\u001b[0m \u001b[0;34m\u001b[0m\u001b[0m\n\u001b[0;32m--> 895\u001b[0;31m         \u001b[0mself\u001b[0m\u001b[0;34m.\u001b[0m\u001b[0m_make_engine\u001b[0m\u001b[0;34m(\u001b[0m\u001b[0mself\u001b[0m\u001b[0;34m.\u001b[0m\u001b[0mengine\u001b[0m\u001b[0;34m)\u001b[0m\u001b[0;34m\u001b[0m\u001b[0;34m\u001b[0m\u001b[0m\n\u001b[0m\u001b[1;32m    896\u001b[0m \u001b[0;34m\u001b[0m\u001b[0m\n\u001b[1;32m    897\u001b[0m     \u001b[0;32mdef\u001b[0m \u001b[0mclose\u001b[0m\u001b[0;34m(\u001b[0m\u001b[0mself\u001b[0m\u001b[0;34m)\u001b[0m\u001b[0;34m:\u001b[0m\u001b[0;34m\u001b[0m\u001b[0;34m\u001b[0m\u001b[0m\n",
      "\u001b[0;32m//anaconda3/lib/python3.7/site-packages/pandas/io/parsers.py\u001b[0m in \u001b[0;36m_make_engine\u001b[0;34m(self, engine)\u001b[0m\n\u001b[1;32m   1120\u001b[0m     \u001b[0;32mdef\u001b[0m \u001b[0m_make_engine\u001b[0m\u001b[0;34m(\u001b[0m\u001b[0mself\u001b[0m\u001b[0;34m,\u001b[0m \u001b[0mengine\u001b[0m\u001b[0;34m=\u001b[0m\u001b[0;34m'c'\u001b[0m\u001b[0;34m)\u001b[0m\u001b[0;34m:\u001b[0m\u001b[0;34m\u001b[0m\u001b[0;34m\u001b[0m\u001b[0m\n\u001b[1;32m   1121\u001b[0m         \u001b[0;32mif\u001b[0m \u001b[0mengine\u001b[0m \u001b[0;34m==\u001b[0m \u001b[0;34m'c'\u001b[0m\u001b[0;34m:\u001b[0m\u001b[0;34m\u001b[0m\u001b[0;34m\u001b[0m\u001b[0m\n\u001b[0;32m-> 1122\u001b[0;31m             \u001b[0mself\u001b[0m\u001b[0;34m.\u001b[0m\u001b[0m_engine\u001b[0m \u001b[0;34m=\u001b[0m \u001b[0mCParserWrapper\u001b[0m\u001b[0;34m(\u001b[0m\u001b[0mself\u001b[0m\u001b[0;34m.\u001b[0m\u001b[0mf\u001b[0m\u001b[0;34m,\u001b[0m \u001b[0;34m**\u001b[0m\u001b[0mself\u001b[0m\u001b[0;34m.\u001b[0m\u001b[0moptions\u001b[0m\u001b[0;34m)\u001b[0m\u001b[0;34m\u001b[0m\u001b[0;34m\u001b[0m\u001b[0m\n\u001b[0m\u001b[1;32m   1123\u001b[0m         \u001b[0;32melse\u001b[0m\u001b[0;34m:\u001b[0m\u001b[0;34m\u001b[0m\u001b[0;34m\u001b[0m\u001b[0m\n\u001b[1;32m   1124\u001b[0m             \u001b[0;32mif\u001b[0m \u001b[0mengine\u001b[0m \u001b[0;34m==\u001b[0m \u001b[0;34m'python'\u001b[0m\u001b[0;34m:\u001b[0m\u001b[0;34m\u001b[0m\u001b[0;34m\u001b[0m\u001b[0m\n",
      "\u001b[0;32m//anaconda3/lib/python3.7/site-packages/pandas/io/parsers.py\u001b[0m in \u001b[0;36m__init__\u001b[0;34m(self, src, **kwds)\u001b[0m\n\u001b[1;32m   1851\u001b[0m         \u001b[0mkwds\u001b[0m\u001b[0;34m[\u001b[0m\u001b[0;34m'usecols'\u001b[0m\u001b[0;34m]\u001b[0m \u001b[0;34m=\u001b[0m \u001b[0mself\u001b[0m\u001b[0;34m.\u001b[0m\u001b[0musecols\u001b[0m\u001b[0;34m\u001b[0m\u001b[0;34m\u001b[0m\u001b[0m\n\u001b[1;32m   1852\u001b[0m \u001b[0;34m\u001b[0m\u001b[0m\n\u001b[0;32m-> 1853\u001b[0;31m         \u001b[0mself\u001b[0m\u001b[0;34m.\u001b[0m\u001b[0m_reader\u001b[0m \u001b[0;34m=\u001b[0m \u001b[0mparsers\u001b[0m\u001b[0;34m.\u001b[0m\u001b[0mTextReader\u001b[0m\u001b[0;34m(\u001b[0m\u001b[0msrc\u001b[0m\u001b[0;34m,\u001b[0m \u001b[0;34m**\u001b[0m\u001b[0mkwds\u001b[0m\u001b[0;34m)\u001b[0m\u001b[0;34m\u001b[0m\u001b[0;34m\u001b[0m\u001b[0m\n\u001b[0m\u001b[1;32m   1854\u001b[0m         \u001b[0mself\u001b[0m\u001b[0;34m.\u001b[0m\u001b[0munnamed_cols\u001b[0m \u001b[0;34m=\u001b[0m \u001b[0mself\u001b[0m\u001b[0;34m.\u001b[0m\u001b[0m_reader\u001b[0m\u001b[0;34m.\u001b[0m\u001b[0munnamed_cols\u001b[0m\u001b[0;34m\u001b[0m\u001b[0;34m\u001b[0m\u001b[0m\n\u001b[1;32m   1855\u001b[0m \u001b[0;34m\u001b[0m\u001b[0m\n",
      "\u001b[0;32mpandas/_libs/parsers.pyx\u001b[0m in \u001b[0;36mpandas._libs.parsers.TextReader.__cinit__\u001b[0;34m()\u001b[0m\n",
      "\u001b[0;32mpandas/_libs/parsers.pyx\u001b[0m in \u001b[0;36mpandas._libs.parsers.TextReader._setup_parser_source\u001b[0;34m()\u001b[0m\n",
      "\u001b[0;31mFileNotFoundError\u001b[0m: [Errno 2] File b'data/Heart.csv' does not exist: b'data/Heart.csv'"
     ]
    }
   ],
   "source": [
    "df_heart = pd.read_csv('data/Heart.csv')"
   ]
  },
  {
   "cell_type": "code",
   "execution_count": null,
   "metadata": {
    "button": false,
    "new_sheet": false,
    "run_control": {
     "read_only": false
    }
   },
   "outputs": [],
   "source": [
    "df_heart.head()"
   ]
  },
  {
   "cell_type": "code",
   "execution_count": null,
   "metadata": {
    "button": false,
    "new_sheet": false,
    "run_control": {
     "read_only": false
    }
   },
   "outputs": [],
   "source": [
    "\n",
    "\n",
    "df_heart['AHD'] = 1*(df_heart['AHD'] == \"Yes\")\n",
    "\n",
    "df_heart.AHD.head(10)\n"
   ]
  },
  {
   "cell_type": "code",
   "execution_count": null,
   "metadata": {
    "button": false,
    "new_sheet": false,
    "run_control": {
     "read_only": false
    }
   },
   "outputs": [],
   "source": [
    "plt.plot(df_heart.MaxHR, df_heart.AHD, 'o', alpha=0.4)\n",
    "plt.ylim(-0.1,1.1)\n",
    "plt.show()\n",
    "#uh-oh, that's not good :("
   ]
  },
  {
   "cell_type": "code",
   "execution_count": null,
   "metadata": {},
   "outputs": [],
   "source": [
    "\n",
    "fig = plt.figure()\n",
    "fig.patch.set_alpha(0.0)\n",
    "plt.xkcd(scale=0.1, length=0.0)\n",
    "plt.gcf().subplots_adjust(bottom=0.20, left = 0.16, right=0.86)\n",
    "\n",
    "host = fig.add_subplot(111)\n",
    "\n",
    "par1 = host.twinx()\n",
    "\n",
    "host.set_xlabel(\"MaxHR\")\n",
    "host.set_ylabel(\"Probability\")\n",
    "\n",
    "\n",
    "par1.set_ylabel(\"AHD\")\n",
    "\n",
    "color1 = plt.cm.viridis(0)\n",
    "\n",
    "data_x = df_heart['MaxHR']\n",
    "data_y = df_heart['AHD']\n",
    "\n",
    "regr = sk.linear_model.LinearRegression(fit_intercept=True)\n",
    "\n",
    "regr.fit(data_x.values.reshape(-1,1), data_y)\n",
    "\n",
    "\n",
    "# Make predictions using the testing set\n",
    "x=np.linspace(np.min(data_x)-10,np.max(data_x)+10)\n",
    "y_ = regr.predict(x.reshape(-1,1))\n",
    "\n",
    "host.plot(data_x, data_y, 'o' ,alpha=0.4, label='Data')\n",
    "host.plot(x, y_, label='LinReg')\n",
    "host.legend(loc=3)\n",
    "\n",
    "labels = ['No', 'Yes']\n",
    "\n",
    "# You can specify a rotation for the tick labels in degrees or with keywords.\n",
    "par1.set_yticks( [0.061, 0.83])\n",
    "par1.set_yticklabels(labels)\n",
    "\n",
    "plt.show()\n",
    "\n",
    "#plt.savefig('fig/FittingLR.png', dpi=300, transparent=True)"
   ]
  },
  {
   "cell_type": "markdown",
   "metadata": {
    "button": false,
    "new_sheet": false,
    "run_control": {
     "read_only": false
    }
   },
   "source": [
    "## Plot for linear regression -> Log Regression"
   ]
  },
  {
   "cell_type": "code",
   "execution_count": null,
   "metadata": {
    "button": false,
    "new_sheet": false,
    "run_control": {
     "read_only": false
    }
   },
   "outputs": [],
   "source": [
    "fig, ax1 = plt.subplots()\n",
    "fig.patch.set_alpha(0.0)\n",
    "plt.xkcd(scale=0.1, length=0.0)\n",
    "plt.gcf().subplots_adjust(bottom=0.20, left = 0.16, right=0.86)\n",
    "\n",
    "x = np.linspace(-100, 100, 100)\n",
    "y = x\n",
    "yl = 1/(1+np.exp(-y))\n",
    "ax1.plot(x,y, label='Y=X')\n",
    "\n",
    "\n",
    "\n",
    "ax1.set_xlabel('X')\n",
    "ax1.set_ylabel('Y')\n",
    "\n",
    "ax1.legend()\n",
    "\n",
    "#plt.savefig('fig/LinR.png', dpi=300, transparent=True)\n"
   ]
  },
  {
   "cell_type": "code",
   "execution_count": null,
   "metadata": {
    "button": false,
    "new_sheet": false,
    "run_control": {
     "read_only": false
    }
   },
   "outputs": [],
   "source": [
    "fig = plt.figure()\n",
    "fig.patch.set_alpha(0.0)\n",
    "plt.xkcd(scale=0.1, length=0.0)\n",
    "plt.gcf().subplots_adjust(bottom=0.20, left = 0.16, right=0.86)\n",
    "\n",
    "\n",
    "plt.plot(x,yl, label='Y=f(x)')\n",
    "plt.xlabel('X')\n",
    "plt.ylabel('Y')\n",
    "plt.legend()\n",
    "plt.grid()\n",
    "#plt.savefig('fig/LogR.png', dpi=300, transparent=True)\n"
   ]
  },
  {
   "cell_type": "code",
   "execution_count": null,
   "metadata": {
    "button": false,
    "new_sheet": false,
    "run_control": {
     "read_only": false
    }
   },
   "outputs": [],
   "source": [
    "from matplotlib.animation import FuncAnimation\n",
    "\n",
    "\n",
    "fig, ax = plt.subplots()\n",
    "fig.patch.set_alpha(1.0)\n",
    "plt.xkcd(scale=0.1, length=0.0)\n",
    "plt.gcf().subplots_adjust(bottom=0.20, left = 0.16, right=0.86)\n",
    "\n",
    "\n",
    "\n",
    "\n",
    "line,  = ax.plot(x,yl, label=r'$Y=\\frac{1}{1+e^{-(X+\\beta_0) }}$')\n",
    "plt.xlabel('X')\n",
    "plt.ylabel('Y')\n",
    "#plt.legend(loc=5)\n",
    "\n",
    "\n",
    "def update(i):\n",
    "    b0=2*i\n",
    "    label = r'$\\beta_0=$ {0}'.format(b0)\n",
    "    print(label)\n",
    "    # Update the line and the axes (with a new xlabel). Return a tuple of\n",
    "    # \"artists\" that have to be redrawn for this frame.\n",
    "    line.set_ydata( 1/(1+np.exp(-x+b0)))\n",
    "    ax.set_title(label)\n",
    "    return line, ax\n",
    "\n",
    "\n",
    "# FuncAnimation will call the 'update' function for each frame; here\n",
    "# animating over 10 frames, with an interval of 200ms between frames.\n",
    "anim = FuncAnimation(fig, update, frames=np.arange(-20, 20,2), interval=300, blit=False)\n",
    "\n",
    "#anim.save('fig/LogBeta0.gif', dpi=120, writer='imagemagick',  savefig_kwargs={'transparent': True, 'facecolor': '#F9F9F9'})\n",
    "\n",
    "\n",
    "\n",
    "#plt.savefig('fig/LogRBeta.png', dpi=300, transparent=True)"
   ]
  },
  {
   "cell_type": "code",
   "execution_count": null,
   "metadata": {
    "button": false,
    "new_sheet": false,
    "run_control": {
     "read_only": false
    }
   },
   "outputs": [],
   "source": [
    "from matplotlib.animation import FuncAnimation\n",
    "\n",
    "\n",
    "fig, ax = plt.subplots()\n",
    "fig.patch.set_alpha(1.0)\n",
    "plt.xkcd(scale=0.1, length=0.0)\n",
    "plt.gcf().subplots_adjust(bottom=0.20, left = 0.16, right=0.86)\n",
    "\n",
    "\n",
    "\n",
    "\n",
    "line,  = ax.plot(x,yl, label=r'$Y=\\frac{1}{1+e^{-(X+\\beta_0) }}$')\n",
    "plt.xlabel('X')\n",
    "plt.ylabel('Y')\n",
    "#plt.legend(loc=5)\n",
    "\n",
    "\n",
    "def update(i):\n",
    "    b1=2*i\n",
    "    label = r'$\\beta_1=$ {0}'.format(np.round(b1, decimals=2))\n",
    "    print(label)\n",
    "    # Update the line and the axes (with a new xlabel). Return a tuple of\n",
    "    # \"artists\" that have to be redrawn for this frame.\n",
    "    line.set_ydata( 1/(1+np.exp(-b1*x)))\n",
    "    ax.set_title(label)\n",
    "    return line, ax\n",
    "\n",
    "\n",
    "# FuncAnimation will call the 'update' function for each frame; here\n",
    "# animating over 10 frames, with an interval of 200ms between frames.\n",
    "anim = FuncAnimation(fig, update, frames=np.arange(.2, -.2,-.03), interval=200, blit=False)\n",
    "\n",
    "anim.save('fig/LogBeta1.gif', dpi=120, writer='imagemagick',  savefig_kwargs={'transparent': True, 'facecolor': '#F9F9F9'})\n",
    "\n",
    "\n",
    "\n",
    "#plt.savefig('fig/LogRBeta.png', dpi=300, transparent=True)"
   ]
  },
  {
   "cell_type": "markdown",
   "metadata": {
    "button": false,
    "new_sheet": false,
    "run_control": {
     "read_only": false
    }
   },
   "source": [
    "## Likelihood function "
   ]
  },
  {
   "cell_type": "code",
   "execution_count": null,
   "metadata": {
    "button": false,
    "new_sheet": false,
    "run_control": {
     "read_only": false
    }
   },
   "outputs": [],
   "source": [
    "fig = plt.figure()\n",
    "fig.patch.set_alpha(0.0)\n",
    "plt.xkcd(scale=0.1, length=0.0)\n",
    "plt.gcf().subplots_adjust(bottom=0.20, left = 0.16, right=0.86)\n",
    "\n",
    "\n",
    "x = np.linspace(-10, 10, 100)\n",
    "y = x\n",
    "yl = 1/(1+np.exp(-0.5*y))\n",
    "\n",
    "#plt.plot(x,yl, label=r'$P(Y=1)=\\frac{1}{1+e^{-X\\beta}}$')\n",
    "plt.plot(x,yl)\n",
    "plt.xlabel('X')\n",
    "plt.ylabel('P(Y=1)')\n",
    "plt.legend()\n",
    "plt.ylim((-0.2, 1.1))\n",
    "#plt.savefig('fig/Likelihood1.png', dpi=300, transparent=True)\n",
    "\n",
    "### FRAME 2 \n",
    "\n",
    "plt.axvline(x=3, color='#A2A2A2', ls='-.')\n",
    "#plt.savefig('fig/Likelihood2.png', dpi=300, transparent=True)\n",
    "\n",
    "### FRAME 3\n",
    "plt.annotate(r'  $P(y=1|x=3)$', xy=(3, .83),\\\n",
    "             xytext=(-8, .81),\n",
    "            arrowprops=dict(facecolor='black', shrink=0.05),\n",
    "            )\n",
    "plt.savefig('fig/Likelihood3.png', dpi=300, transparent=True)\n",
    "\n",
    "### FRAME 4\n",
    "\n",
    "plt.annotate(r'  $p=P(y=1|x=3)$', xy=(3, .83),\\\n",
    "             xytext=(-10, .81),\n",
    "            arrowprops=dict(facecolor='black', shrink=0.05),\n",
    "            )\n",
    "plt.savefig('fig/Likelihood4.png', dpi=300, transparent=True)\n",
    "\n",
    "\n",
    "### FRAME 5\n",
    "\n",
    "plt.clf()\n",
    "plt.ylim((-0.2, 1.1))\n",
    "plt.plot(x,yl)\n",
    "plt.xlabel('X')\n",
    "plt.ylabel('P(Y=1)')\n",
    "plt.axvline(x=3, color='#A2A2A2', ls='-.')\n",
    "coinf = np.random.binomial(1, 0.7, size=1)\n",
    "plt.plot( [3], [0], 'ko')\n",
    "plt.plot( [3], [1], 'ko')\n",
    "\n",
    "plt.annotate(r'  $p$', xy=(2.7, 1),\\\n",
    "             xytext=(-3, 0.98),\n",
    "            arrowprops=dict(facecolor='white', shrink=0.0),\n",
    "            )\n",
    "plt.annotate(r'  $1-p$', xy=(2.8, .00),\\\n",
    "             xytext=(-4, -.02),\n",
    "            arrowprops=dict(facecolor='white', shrink=0.05),\n",
    "            )\n",
    "plt.savefig('fig/Likelihood5.png', dpi=300, transparent=True)\n",
    "\n",
    "plt.show()\n",
    "\n"
   ]
  },
  {
   "cell_type": "markdown",
   "metadata": {
    "button": false,
    "new_sheet": false,
    "run_control": {
     "read_only": false
    }
   },
   "source": [
    "## Plots for simple model "
   ]
  },
  {
   "cell_type": "code",
   "execution_count": null,
   "metadata": {
    "button": false,
    "new_sheet": false,
    "run_control": {
     "read_only": false
    }
   },
   "outputs": [],
   "source": [
    "from sklearn import linear_model\n",
    "\n",
    "fig = plt.figure()\n",
    "fig.patch.set_alpha(0.0)\n",
    "plt.xkcd(scale=0.1, length=0.0)\n",
    "plt.gcf().subplots_adjust(bottom=0.20, left = 0.16, right=0.86)\n",
    "\n",
    "plt.ylim((-0.1, 1.1))\n",
    "\n",
    "\n",
    "plt.xlabel(\"MaxHR\")\n",
    "plt.ylabel(\"Heart disease (AHD)\")\n",
    "\n",
    "\n",
    "\n",
    "\n",
    "data_x = df_heart['MaxHR']\n",
    "data_y = df_heart['AHD']\n",
    "\n",
    "plt.plot(data_x, data_y, 'o' ,alpha=0.4, label='Data')\n",
    "plt.show()\n",
    "\n",
    "#plt.legend(loc=3)\n",
    "\n",
    "\n",
    "#plt.savefig('fig/FittingLogR1.png', dpi=300, transparent=True)"
   ]
  },
  {
   "cell_type": "code",
   "execution_count": null,
   "metadata": {
    "button": false,
    "new_sheet": false,
    "run_control": {
     "read_only": false
    },
    "slideshow": {
     "slide_type": "slide"
    }
   },
   "outputs": [],
   "source": [
    "from sklearn.linear_model import LogisticRegression\n",
    "\n",
    "\n",
    "\n",
    "logreg = LogisticRegression(C=100000, fit_intercept=True,solver='lbfgs')\n",
    "logreg.fit(data_x.values.reshape(-1,1), data_y);\n",
    "\n",
    "\n",
    "print('Estimated beta1: \\n', logreg.coef_)\n",
    "print('Estimated beta0: \\n', logreg.intercept_)"
   ]
  },
  {
   "cell_type": "code",
   "execution_count": null,
   "metadata": {
    "button": false,
    "new_sheet": false,
    "run_control": {
     "read_only": false
    },
    "slideshow": {
     "slide_type": "slide"
    }
   },
   "outputs": [],
   "source": [
    "\n",
    "fig = plt.figure()\n",
    "fig.patch.set_alpha(0.0)\n",
    "plt.xkcd(scale=0.1, length=0.0)\n",
    "plt.gcf().subplots_adjust(bottom=0.20, left = 0.16, right=0.86)\n",
    "\n",
    "\n",
    "x=np.linspace(np.min(data_x),np.max(data_x))\n",
    "yhat = logreg.predict_proba(x.reshape(-1,1))[:,1]\n",
    "plt.plot(data_x, data_y, 'o' ,alpha=0.4, label='Data')\n",
    "plt.plot(x,yhat, label='Model')\n",
    "plt.legend()\n",
    "\n",
    "plt.xlabel(\"MaxHR\")\n",
    "plt.ylabel(\"Heart disease (AHD)\")\n",
    "\n",
    "\n",
    "\n",
    "plt.savefig('fig/FittingLogR2.png', dpi=300, transparent=True)"
   ]
  },
  {
   "cell_type": "markdown",
   "metadata": {
    "button": false,
    "new_sheet": false,
    "run_control": {
     "read_only": false
    }
   },
   "source": [
    "## Categorical predictors"
   ]
  },
  {
   "cell_type": "code",
   "execution_count": null,
   "metadata": {
    "button": false,
    "new_sheet": false,
    "run_control": {
     "read_only": false
    }
   },
   "outputs": [],
   "source": [
    "data_x = df_heart['Sex']\n",
    "data_y = df_heart['AHD']\n",
    "\n",
    "idx0 = np.where(data_x.values==0)\n",
    "idx1 = np.where(data_x.values==1)\n",
    "\n",
    "print(\"percentage of females with HD\", data_y.values[idx0].sum()/idx0[0].shape)\n",
    "print(\"percentage of males with HD\", data_y.values[idx1].sum()/idx1[0].shape)\n",
    "\n",
    "pd.crosstab(df_heart['Sex'],df_heart['AHD'])\n"
   ]
  },
  {
   "cell_type": "code",
   "execution_count": null,
   "metadata": {},
   "outputs": [],
   "source": [
    "fig = plt.figure()\n",
    "fig.patch.set_alpha(0.0)\n",
    "plt.xkcd(scale=0.1, length=0.0)\n",
    "plt.gcf().subplots_adjust(bottom=0.20, left = 0.16, right=0.86)\n",
    "\n",
    "plt.ylim((-0.1, 1.1))\n",
    "\n",
    "plt.xlabel(\"Sex\")\n",
    "plt.ylabel(\"Heart disease (AHD)\")\n",
    "\n",
    "\n",
    "data_x = df_heart['Sex']\n",
    "data_y = df_heart['AHD']\n",
    "logreg.fit(data_x.values.reshape(-1,1), data_y);\n",
    "\n",
    "x=np.linspace(np.min(data_x),np.max(data_x))\n",
    "yhat = logreg.predict_proba(x.reshape(-1,1))[:,1]\n",
    "\n",
    "plt.plot(data_x, data_y, 'o' ,alpha=0.4, label='Data')\n",
    "plt.plot(x,yhat, label='Model')\n",
    "plt.show()"
   ]
  },
  {
   "cell_type": "code",
   "execution_count": null,
   "metadata": {
    "button": false,
    "new_sheet": false,
    "run_control": {
     "read_only": false
    },
    "slideshow": {
     "slide_type": "slide"
    }
   },
   "outputs": [],
   "source": [
    "print('Estimated beta1: \\n', logreg.coef_)\n",
    "print('Estimated beta0: \\n', logreg.intercept_)"
   ]
  },
  {
   "cell_type": "code",
   "execution_count": null,
   "metadata": {
    "button": false,
    "new_sheet": false,
    "run_control": {
     "read_only": false
    },
    "slideshow": {
     "slide_type": "slide"
    }
   },
   "outputs": [],
   "source": []
  },
  {
   "cell_type": "markdown",
   "metadata": {
    "button": false,
    "new_sheet": false,
    "run_control": {
     "read_only": false
    }
   },
   "source": [
    "# Probit"
   ]
  },
  {
   "cell_type": "code",
   "execution_count": null,
   "metadata": {
    "button": false,
    "new_sheet": false,
    "run_control": {
     "read_only": false
    }
   },
   "outputs": [],
   "source": [
    "from scipy.stats import logistic\n",
    "from scipy.stats import norm \n",
    "fig = plt.figure()\n",
    "fig.patch.set_alpha(0.0)\n",
    "plt.xkcd(scale=0.1, length=0.0)\n",
    "plt.gcf().subplots_adjust(bottom=0.20, left = 0.16, right=0.86)\n",
    "\n",
    "\n",
    "\n",
    "x = np.linspace(logistic.ppf(0.01), logistic.ppf(0.99), 100)\n",
    "plt.plot(x, logistic.pdf(x,loc=0, scale=1),   'r-', lw=5, alpha=0.6, label='logistic pdf')\n",
    "plt.plot(x, norm.pdf(x,loc=0, scale=1),   'b-', lw=5, alpha=0.6, label='normal pdf')\n",
    "plt.xlabel('X')\n",
    "plt.ylabel('Probability')\n",
    "plt.legend()\n",
    "\n",
    "\n",
    "plt.savefig('fig/NormVsLog.png', dpi=300, transparent=True)"
   ]
  },
  {
   "cell_type": "markdown",
   "metadata": {
    "button": false,
    "new_sheet": false,
    "run_control": {
     "read_only": false
    }
   },
   "source": [
    "## Multiple Logistic Regression"
   ]
  },
  {
   "cell_type": "code",
   "execution_count": null,
   "metadata": {
    "button": false,
    "new_sheet": false,
    "run_control": {
     "read_only": false
    },
    "slideshow": {
     "slide_type": "slide"
    }
   },
   "outputs": [],
   "source": [
    "data_x = df_heart[['MaxHR','Sex']]\n",
    "data_y = df_heart['AHD']\n",
    "\n",
    "logreg.fit(data_x, data_y);\n",
    "\n",
    "\n",
    "print('Estimated beta1, beta2: \\n', logreg.coef_)\n",
    "print('Estimated beta0: \\n', logreg.intercept_)"
   ]
  },
  {
   "cell_type": "code",
   "execution_count": null,
   "metadata": {
    "button": false,
    "new_sheet": false,
    "run_control": {
     "read_only": false
    },
    "slideshow": {
     "slide_type": "-"
    }
   },
   "outputs": [],
   "source": [
    "df_heart['Interaction'] = df_heart.MaxHR * df_heart.Sex \n",
    "\n",
    "data_x = df_heart[['MaxHR','Sex', 'Interaction']]\n",
    "data_y = df_heart['AHD']\n",
    "\n",
    "logreg = LogisticRegression(C=100000, fit_intercept=True, solver='lbfgs')\n",
    "logreg.fit(data_x, data_y);\n",
    "\n",
    "\n",
    "print('Estimated beta1, beta2, beta3: \\n', logreg.coef_)\n",
    "print('Estimated beta0: \\n', logreg.intercept_)"
   ]
  },
  {
   "cell_type": "markdown",
   "metadata": {},
   "source": [
    "## Multi-Class (Multinomial)"
   ]
  },
  {
   "cell_type": "code",
   "execution_count": null,
   "metadata": {
    "button": false,
    "new_sheet": false,
    "run_control": {
     "read_only": false
    }
   },
   "outputs": [],
   "source": [
    "# Response for Multinomial Logistic Regression Example\n",
    "\n",
    "print(df_heart.RestECG.values)\n",
    "plt.hist(df_heart.RestECG.values)\n",
    "plt.show()"
   ]
  },
  {
   "cell_type": "code",
   "execution_count": null,
   "metadata": {
    "button": false,
    "new_sheet": false,
    "run_control": {
     "read_only": false
    }
   },
   "outputs": [],
   "source": [
    "# Multinomial Logistic Regression Example\n",
    "\n",
    "data_x = df_heart[['Sex']]\n",
    "data_y = df_heart['RestECG']\n",
    "\n",
    "logitm = LogisticRegression(C = 10000000,solver='lbfgs')\n",
    "logitm.fit(data_x, data_y)\n",
    "\n",
    "# The coefficients\n",
    "print('Estimated beta1: \\n', logitm.coef_)\n",
    "print('Estimated beta0: \\n', logitm.intercept_)\n",
    "\n"
   ]
  },
  {
   "cell_type": "code",
   "execution_count": null,
   "metadata": {},
   "outputs": [],
   "source": [
    "logitm = LogisticRegression(C = 10000000,solver='lbfgs',multi_class='ovr')\n",
    "logitm.fit (data_x, data_y)\n",
    "\n",
    "# The coefficients\n",
    "print('Estimated beta1: \\n', logitm.coef_)\n",
    "print('Estimated beta0: \\n', logitm.intercept_)"
   ]
  },
  {
   "cell_type": "code",
   "execution_count": null,
   "metadata": {},
   "outputs": [],
   "source": [
    "logitm = LogisticRegression(C = 10000000,solver='lbfgs',multi_class='multinomial')\n",
    "logitm.fit (data_x, data_y)\n",
    "\n",
    "# The coefficients\n",
    "print('Estimated beta1: \\n', logitm.coef_)\n",
    "print('Estimated beta0: \\n', logitm.intercept_)"
   ]
  },
  {
   "cell_type": "code",
   "execution_count": null,
   "metadata": {
    "button": false,
    "new_sheet": false,
    "run_control": {
     "read_only": false
    }
   },
   "outputs": [],
   "source": [
    "logitm = LogisticRegression(C = 10000000,solver='lbfgs')\n",
    "logitm.fit (df_heart[['Sex','MaxHR','Interaction']], df_heart['RestECG'])\n",
    "# The coefficients\n",
    "print('Estimated beta1: \\n', logitm.coef_)\n",
    "print('Estimated beta0: \\n', logitm.intercept_)"
   ]
  },
  {
   "cell_type": "code",
   "execution_count": null,
   "metadata": {},
   "outputs": [],
   "source": []
  }
 ],
 "metadata": {
  "celltoolbar": "Slideshow",
  "kernelspec": {
   "display_name": "Python 3",
   "language": "python",
   "name": "python3"
  },
  "language_info": {
   "codemirror_mode": {
    "name": "ipython",
    "version": 3
   },
   "file_extension": ".py",
   "mimetype": "text/x-python",
   "name": "python",
   "nbconvert_exporter": "python",
   "pygments_lexer": "ipython3",
   "version": "3.7.3"
  }
 },
 "nbformat": 4,
 "nbformat_minor": 2
}
